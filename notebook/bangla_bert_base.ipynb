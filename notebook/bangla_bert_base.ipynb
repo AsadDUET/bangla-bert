{
  "nbformat": 4,
  "nbformat_minor": 0,
  "metadata": {
    "colab": {
      "name": "bangla-bert-base.ipynb",
      "provenance": [],
      "collapsed_sections": [],
      "toc_visible": true,
      "authorship_tag": "ABX9TyOQynE1QWYjhGgoa00uUN6r",
      "include_colab_link": true
    },
    "kernelspec": {
      "name": "python3",
      "display_name": "Python 3"
    },
    "accelerator": "GPU"
  },
  "cells": [
    {
      "cell_type": "markdown",
      "metadata": {
        "id": "view-in-github",
        "colab_type": "text"
      },
      "source": [
        "<a href=\"https://colab.research.google.com/github/sagorbrur/bangla-bert/blob/master/notebook/bangla_bert_base.ipynb\" target=\"_parent\"><img src=\"https://colab.research.google.com/assets/colab-badge.svg\" alt=\"Open In Colab\"/></a>"
      ]
    },
    {
      "cell_type": "markdown",
      "metadata": {
        "id": "yO65JBiYZezX",
        "colab_type": "text"
      },
      "source": [
        "# Bangla-BERT-Base"
      ]
    },
    {
      "cell_type": "code",
      "metadata": {
        "id": "oBwUSWeTZv8M",
        "colab_type": "code",
        "colab": {}
      },
      "source": [
        "!pip install transformers"
      ],
      "execution_count": 8,
      "outputs": []
    },
    {
      "cell_type": "markdown",
      "metadata": {
        "id": "Tln9W2piwXcM",
        "colab_type": "text"
      },
      "source": [
        "## Bangla BERT Tokenization"
      ]
    },
    {
      "cell_type": "code",
      "metadata": {
        "id": "E1kxhRhAwA8R",
        "colab_type": "code",
        "colab": {
          "base_uri": "https://localhost:8080/",
          "height": 34
        },
        "outputId": "778edbf9-5fb2-47dc-e097-cdbeec7bb209"
      },
      "source": [
        "from transformers import AutoTokenizer, AutoModel\n",
        "\n",
        "bnbert_tokenizer = AutoTokenizer.from_pretrained(\"sagorsarker/bangla-bert-base\")\n",
        "text = \"আমি বাংলায় গান গাই।\"\n",
        "bnbert_tokenizer.tokenize(text)"
      ],
      "execution_count": 6,
      "outputs": [
        {
          "output_type": "execute_result",
          "data": {
            "text/plain": [
              "['আমি', 'বাংলা', '##য', 'গান', 'গাই', '।']"
            ]
          },
          "metadata": {
            "tags": []
          },
          "execution_count": 6
        }
      ]
    },
    {
      "cell_type": "markdown",
      "metadata": {
        "id": "McA2CbwtZi7R",
        "colab_type": "text"
      },
      "source": [
        "## Filling MASK"
      ]
    },
    {
      "cell_type": "code",
      "metadata": {
        "id": "VirFZSTQZY91",
        "colab_type": "code",
        "colab": {
          "base_uri": "https://localhost:8080/",
          "height": 207
        },
        "outputId": "49163942-03a0-4603-f8ad-a4e1f182b05c"
      },
      "source": [
        "from transformers import BertForMaskedLM, BertTokenizer, pipeline\n",
        "\n",
        "model = BertForMaskedLM.from_pretrained(\"sagorsarker/bangla-bert-base\")\n",
        "tokenizer = BertTokenizer.from_pretrained(\"sagorsarker/bangla-bert-base\")\n",
        "nlp = pipeline('fill-mask', model=model, tokenizer=tokenizer)\n",
        "for pred in nlp(f\"আমি বাংলায় {nlp.tokenizer.mask_token} গাই।\"):\n",
        "  print(pred)"
      ],
      "execution_count": 7,
      "outputs": [
        {
          "output_type": "stream",
          "text": [
            "Some weights of the model checkpoint at sagorsarker/bangla-bert-base were not used when initializing BertForMaskedLM: ['cls.seq_relationship.weight', 'cls.seq_relationship.bias']\n",
            "- This IS expected if you are initializing BertForMaskedLM from the checkpoint of a model trained on another task or with another architecture (e.g. initializing a BertForSequenceClassification model from a BertForPretraining model).\n",
            "- This IS NOT expected if you are initializing BertForMaskedLM from the checkpoint of a model that you expect to be exactly identical (initializing a BertForSequenceClassification model from a BertForSequenceClassification model).\n",
            "Some weights of BertForMaskedLM were not initialized from the model checkpoint at sagorsarker/bangla-bert-base and are newly initialized: ['cls.predictions.decoder.bias']\n",
            "You should probably TRAIN this model on a down-stream task to be able to use it for predictions and inference.\n"
          ],
          "name": "stderr"
        },
        {
          "output_type": "stream",
          "text": [
            "{'sequence': '[CLS] আমি বাংলায গান গাই । [SEP]', 'score': 0.1340469866991043, 'token': 2552, 'token_str': 'গান'}\n",
            "{'sequence': '[CLS] আমি বাংলাযও গাই । [SEP]', 'score': 0.0613858737051487, 'token': 2058, 'token_str': '##ও'}\n",
            "{'sequence': '[CLS] আমি বাংলায সাহিত্য গাই । [SEP]', 'score': 0.04723009839653969, 'token': 4122, 'token_str': 'সাহিত্য'}\n",
            "{'sequence': '[CLS] আমি বাংলায কবিতা গাই । [SEP]', 'score': 0.04314069077372551, 'token': 4459, 'token_str': 'কবিতা'}\n",
            "{'sequence': '[CLS] আমি বাংলায শব্দ গাই । [SEP]', 'score': 0.013253450393676758, 'token': 3264, 'token_str': 'শব্দ'}\n"
          ],
          "name": "stdout"
        }
      ]
    },
    {
      "cell_type": "code",
      "metadata": {
        "id": "NWRXBgz_aIFU",
        "colab_type": "code",
        "colab": {}
      },
      "source": [
        ""
      ],
      "execution_count": null,
      "outputs": []
    }
  ]
}